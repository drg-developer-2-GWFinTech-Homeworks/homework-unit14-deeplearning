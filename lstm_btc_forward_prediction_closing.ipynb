{
 "cells": [
  {
   "cell_type": "markdown",
   "metadata": {},
   "source": [
    "# LSTM Stock Predictor Using Closing Prices\n",
    "\n",
    "In this notebook, you will build and train a custom LSTM RNN that uses a 10 day window of Bitcoin closing prices to predict the 11th day closing price. \n",
    "\n",
    "You will need to:\n",
    "\n",
    "1. Prepare the data for training and testing\n",
    "2. Build and train a custom LSTM RNN\n",
    "3. Evaluate the performance of the model"
   ]
  },
  {
   "cell_type": "markdown",
   "metadata": {},
   "source": [
    "## Data Preparation\n",
    "\n",
    "In this section, you will need to prepare the training and testing data for the model. The model will use a rolling 10 day window to predict the 11th day closing price.\n",
    "\n",
    "You will need to:\n",
    "1. Use the `window_data` function to generate the X and y values for the model.\n",
    "2. Split the data into 70% training and 30% testing\n",
    "3. Apply the MinMaxScaler to the X and y values\n",
    "4. Reshape the X_train and X_test data for the model. Note: The required input format for the LSTM is:\n",
    "\n",
    "```python\n",
    "reshape((X_train.shape[0], X_train.shape[1], 1))\n",
    "```"
   ]
  },
  {
   "cell_type": "code",
   "execution_count": 16,
   "metadata": {},
   "outputs": [],
   "source": [
    "import numpy as np\n",
    "import pandas as pd\n",
    "import hvplot.pandas"
   ]
  },
  {
   "cell_type": "code",
   "execution_count": 18,
   "metadata": {},
   "outputs": [],
   "source": [
    "# Set the random seed for reproducibility\n",
    "# Note: This is for the homework solution, but it is good practice to comment this out and run multiple experiments to evaluate your model\n",
    "from numpy.random import seed\n",
    "seed(1)\n",
    "from tensorflow import random\n",
    "random.set_seed(2)"
   ]
  },
  {
   "cell_type": "code",
   "execution_count": null,
   "metadata": {},
   "outputs": [],
   "source": [
    "# Load the historical closing prices for Bitcoin\n",
    "df = pd.read_csv('Resources/BTC_USD_2013-10-01_2020-12-29-CoinDesk.csv', index_col=\"Date\", infer_datetime_format=True, parse_dates=True)\n",
    "df.head()"
   ]
  },
  {
   "cell_type": "code",
   "execution_count": 4,
   "metadata": {},
   "outputs": [],
   "source": [
    "# This function accepts the column number for the features (X) and the target (y)\n",
    "# It chunks the data up with a rolling window of Xt-n to predict Xt\n",
    "# It returns a numpy array of X any y\n",
    "def window_data(df, window, feature_col_number, target_col_number):\n",
    "    X = []\n",
    "    y = []\n",
    "    for i in range(len(df) - window):\n",
    "        features = df.iloc[i:(i + window), feature_col_number]\n",
    "        target = df.iloc[(i + window), target_col_number]\n",
    "        X.append(features)\n",
    "        y.append(target)\n",
    "    return np.array(X), np.array(y).reshape(-1, 1)"
   ]
  },
  {
   "cell_type": "code",
   "execution_count": 5,
   "metadata": {},
   "outputs": [],
   "source": [
    "def get_trailing_window_data(df, num_trailing_windows, window_length, feature_col_number, target_col_number):\n",
    "    X = []\n",
    "    y = []\n",
    "\n",
    "    i_start = len(df) - window_length - num_trailing_windows\n",
    "    i_end = i_start + num_trailing_windows\n",
    "\n",
    "    for i in range(i_start, i_end):\n",
    "        features = df.iloc[i:(i + window_length), feature_col_number]\n",
    "        target = df.iloc[i + window_length, target_col_number]\n",
    "        X.append(features)\n",
    "        y.append(target)\n",
    "    return np.array(X), np.array(y).reshape(-1, 1)\n"
   ]
  },
  {
   "cell_type": "code",
   "execution_count": 6,
   "metadata": {},
   "outputs": [],
   "source": [
    "def append_window_data(X, Y,\n",
    "        df, num_trailing_windows, window_length, feature_col_number, target_col_number):\n",
    "    X_new, y_new = get_trailing_window_data(df, num_trailing_windows, window_length, feature_col_number, target_col_number)\n",
    "    print(f\"X_new.shape {X_new.shape}  y_new.shape {y_new.shape}\")\n",
    "    return (np.append(X, X_new, axis=0),  np.append(Y, y_new, axis=0))"
   ]
  },
  {
   "cell_type": "code",
   "execution_count": 7,
   "metadata": {},
   "outputs": [],
   "source": [
    "# Predict Closing Prices using a 10 day window of previous closing prices\n",
    "# Then, experiment with window sizes anywhere from 1 to 10 and see how the model performance changes\n",
    "window_size = 10\n",
    "\n",
    "# Column index 0 is the 'fng_value' column\n",
    "# Column index 1 is the `Close` column\n",
    "feature_column = 1\n",
    "target_column = 1\n",
    "X, y = window_data(df, window_size, feature_column, target_column)"
   ]
  },
  {
   "cell_type": "code",
   "execution_count": 8,
   "metadata": {},
   "outputs": [],
   "source": [
    "# Use 70% of the data for training and the remaineder for testing\n",
    "split = int(0.7 * len(X))\n",
    "X_train = X[:split]\n",
    "X_test = X[split:]\n",
    "y_train = y[:split]\n",
    "y_test = y[split:]"
   ]
  },
  {
   "cell_type": "code",
   "execution_count": 9,
   "metadata": {},
   "outputs": [],
   "source": [
    "from sklearn.preprocessing import MinMaxScaler\n",
    "# Use the MinMaxScaler to scale data between 0 and 1.\n",
    "\n",
    "scaler = MinMaxScaler()\n",
    "scaler.fit(X_train)\n",
    "# scaler.fit(X)\n",
    "X_train = scaler.transform(X_train)\n",
    "X_test = scaler.transform(X_test)\n",
    "scaler.fit(y)\n",
    "y_train = scaler.transform(y_train)\n",
    "y_test = scaler.transform(y_test)"
   ]
  },
  {
   "cell_type": "code",
   "execution_count": 10,
   "metadata": {},
   "outputs": [
    {
     "output_type": "stream",
     "name": "stdout",
     "text": [
      "X_train sample values:\n[[[7.90736096e-04]\n  [8.85183194e-04]\n  [0.00000000e+00]\n  [0.00000000e+00]\n  [3.58772654e-05]\n  [0.00000000e+00]\n  [0.00000000e+00]\n  [0.00000000e+00]\n  [0.00000000e+00]\n  [3.57898734e-05]]\n\n [[8.85183194e-04]\n  [0.00000000e+00]\n  [5.29416594e-04]\n  [1.39854970e-04]\n  [0.00000000e+00]\n  [5.98367452e-05]\n  [6.50033109e-05]\n  [5.33502885e-05]\n  [1.00413121e-04]\n  [0.00000000e+00]]\n\n [[0.00000000e+00]\n  [5.29416594e-04]\n  [6.69197523e-04]\n  [1.03981435e-04]\n  [5.98367452e-05]\n  [1.24836166e-04]\n  [1.18350131e-04]\n  [1.53758052e-04]\n  [6.46255601e-05]\n  [3.40221740e-05]]\n\n [[5.29416594e-04]\n  [6.69197523e-04]\n  [6.33342980e-04]\n  [1.63811959e-04]\n  [1.24836166e-04]\n  [1.78179795e-04]\n  [2.18751368e-04]\n  [1.17972401e-04]\n  [9.86455354e-05]\n  [5.79606891e-05]]\n\n [[6.69197523e-04]\n  [6.33342980e-04]\n  [6.93141828e-04]\n  [2.28804621e-04]\n  [1.78179795e-04]\n  [2.78575024e-04]\n  [1.82968043e-04]\n  [1.51990561e-04]\n  [1.22582503e-04]\n  [5.23184930e-04]]] \n\nX_test sample values:\n[[[0.33050499]\n  [0.33077004]\n  [0.32994886]\n  [0.32956097]\n  [0.33009057]\n  [0.32997683]\n  [0.32923727]\n  [0.33151336]\n  [0.33112752]\n  [0.32249801]]\n\n [[0.33077004]\n  [0.32994886]\n  [0.32991592]\n  [0.33016023]\n  [0.32997683]\n  [0.32927741]\n  [0.33155682]\n  [0.33116321]\n  [0.32254179]\n  [0.3230376 ]]\n\n [[0.32994886]\n  [0.32991592]\n  [0.33051486]\n  [0.3300465 ]\n  [0.32927741]\n  [0.33159681]\n  [0.33120668]\n  [0.32257793]\n  [0.32308135]\n  [0.32541392]]\n\n [[0.32991592]\n  [0.33051486]\n  [0.33040118]\n  [0.32934715]\n  [0.33159681]\n  [0.3312467 ]\n  [0.32262197]\n  [0.32311747]\n  [0.32545752]\n  [0.32643175]]\n\n [[0.33051486]\n  [0.33040118]\n  [0.32970221]\n  [0.33166632]\n  [0.3312467 ]\n  [0.3226625 ]\n  [0.32316147]\n  [0.32549351]\n  [0.32647528]\n  [0.327432  ]]]\n"
     ]
    }
   ],
   "source": [
    "# Reshape the features for the model\n",
    "X_train = X_train.reshape((X_train.shape[0], X_train.shape[1], 1))\n",
    "X_test = X_test.reshape((X_test.shape[0], X_test.shape[1], 1))\n",
    "print (f\"X_train sample values:\\n{X_train[:5]} \\n\")\n",
    "print (f\"X_test sample values:\\n{X_test[:5]}\")"
   ]
  },
  {
   "cell_type": "markdown",
   "metadata": {},
   "source": [
    "---"
   ]
  },
  {
   "cell_type": "markdown",
   "metadata": {},
   "source": [
    "## Build and Train the LSTM RNN\n",
    "\n",
    "In this section, you will design a custom LSTM RNN and fit (train) it using the training data.\n",
    "\n",
    "You will need to:\n",
    "\n",
    "1. Define the model architecture\n",
    "2. Compile the model\n",
    "3. Fit the model to the training data\n",
    "\n",
    "### Hints:\n",
    "You will want to use the same model architecture and random seed for both notebooks. This is necessary to accurately compare the performance of the FNG model vs the closing price model. "
   ]
  },
  {
   "cell_type": "code",
   "execution_count": 11,
   "metadata": {},
   "outputs": [],
   "source": [
    "from tensorflow.keras.models import Sequential\n",
    "from tensorflow.keras.layers import LSTM, Dense, Dropout"
   ]
  },
  {
   "cell_type": "code",
   "execution_count": 12,
   "metadata": {},
   "outputs": [],
   "source": [
    "# Build the LSTM model. \n",
    "# The return sequences need to be set to True if you are adding additional LSTM layers, but \n",
    "# You don't have to do this for the final layer. \n",
    "# Note: The dropouts help prevent overfitting\n",
    "# Note: The input shape is the number of time steps and the number of indicators\n",
    "# Note: Batching inputs has a different input shape of Samples/TimeSteps/Features\n",
    "\n",
    "model = Sequential()\n",
    "\n",
    "number_units = 5\n",
    "dropout_fraction = 0.2\n",
    "\n",
    "# Layer 1\n",
    "model.add(LSTM(\n",
    "    units=number_units,\n",
    "    return_sequences=True,\n",
    "    input_shape=(X_train.shape[1], 1))\n",
    "    )\n",
    "model.add(Dropout(dropout_fraction))\n",
    "\n",
    "# Layer 2\n",
    "model.add(LSTM(units=number_units, return_sequences=True))\n",
    "model.add(Dropout(dropout_fraction))\n",
    "\n",
    "# Layer 3\n",
    "model.add(LSTM(units=number_units))\n",
    "model.add(Dropout(dropout_fraction))\n",
    "\n",
    "# Output layer\n",
    "model.add(Dense(1))\n"
   ]
  },
  {
   "cell_type": "code",
   "execution_count": 13,
   "metadata": {},
   "outputs": [],
   "source": [
    "# Compile the model\n",
    "model.compile(optimizer=\"adam\", loss=\"mean_squared_error\")"
   ]
  },
  {
   "cell_type": "code",
   "execution_count": 14,
   "metadata": {},
   "outputs": [
    {
     "output_type": "stream",
     "name": "stdout",
     "text": [
      "Model: \"sequential\"\n_________________________________________________________________\nLayer (type)                 Output Shape              Param #   \n=================================================================\nlstm (LSTM)                  (None, 10, 5)             140       \n_________________________________________________________________\ndropout (Dropout)            (None, 10, 5)             0         \n_________________________________________________________________\nlstm_1 (LSTM)                (None, 10, 5)             220       \n_________________________________________________________________\ndropout_1 (Dropout)          (None, 10, 5)             0         \n_________________________________________________________________\nlstm_2 (LSTM)                (None, 5)                 220       \n_________________________________________________________________\ndropout_2 (Dropout)          (None, 5)                 0         \n_________________________________________________________________\ndense (Dense)                (None, 1)                 6         \n=================================================================\nTotal params: 586\nTrainable params: 586\nNon-trainable params: 0\n_________________________________________________________________\n"
     ]
    }
   ],
   "source": [
    "# Summarize the model\n",
    "model.summary()"
   ]
  },
  {
   "cell_type": "code",
   "execution_count": 15,
   "metadata": {},
   "outputs": [
    {
     "output_type": "stream",
     "name": "stdout",
     "text": [
      "Epoch 1/10\n",
      "1838/1838 [==============================] - 13s 7ms/step - loss: 7.2675e-04\n",
      "Epoch 2/10\n",
      "1838/1838 [==============================] - 11s 6ms/step - loss: 0.0016\n",
      "Epoch 3/10\n",
      "1838/1838 [==============================] - 10s 6ms/step - loss: 0.0017\n",
      "Epoch 4/10\n",
      "1838/1838 [==============================] - 10s 6ms/step - loss: 0.0017\n",
      "Epoch 5/10\n",
      "1838/1838 [==============================] - 10s 6ms/step - loss: 0.0017\n",
      "Epoch 6/10\n",
      "1838/1838 [==============================] - 11s 6ms/step - loss: 0.0018\n",
      "Epoch 7/10\n",
      "1838/1838 [==============================] - 11s 6ms/step - loss: 0.0021\n",
      "Epoch 8/10\n",
      "1838/1838 [==============================] - 11s 6ms/step - loss: 0.0021\n",
      "Epoch 9/10\n",
      "1838/1838 [==============================] - 11s 6ms/step - loss: 0.0022\n",
      "Epoch 10/10\n",
      "1838/1838 [==============================] - 10s 6ms/step - loss: 0.0023\n"
     ]
    },
    {
     "output_type": "execute_result",
     "data": {
      "text/plain": [
       "<tensorflow.python.keras.callbacks.History at 0x13ffa687700>"
      ]
     },
     "metadata": {},
     "execution_count": 15
    }
   ],
   "source": [
    "# Train the model\n",
    "# Use at least 10 epochs\n",
    "# Do not shuffle the data\n",
    "# Experiement with the batch size, but a smaller batch size is recommended\n",
    "model.fit(X_train, y_train, epochs=10, shuffle=False, batch_size=1, verbose=1)"
   ]
  },
  {
   "cell_type": "markdown",
   "metadata": {},
   "source": [
    "---"
   ]
  },
  {
   "cell_type": "markdown",
   "metadata": {},
   "source": [
    "## Model Performance\n",
    "\n",
    "In this section, you will evaluate the model using the test data. \n",
    "\n",
    "You will need to:\n",
    "1. Evaluate the model using the `X_test` and `y_test` data.\n",
    "2. Use the X_test data to make predictions\n",
    "3. Create a DataFrame of Real (y_test) vs predicted values. \n",
    "4. Plot the Real vs predicted values as a line chart\n",
    "\n",
    "### Hints\n",
    "Remember to apply the `inverse_transform` function to the predicted and y_test values to recover the actual closing prices."
   ]
  },
  {
   "cell_type": "code",
   "execution_count": 17,
   "metadata": {},
   "outputs": [
    {
     "output_type": "stream",
     "name": "stdout",
     "text": [
      "25/25 [==============================] - 0s 5ms/step - loss: 0.0290\n"
     ]
    },
    {
     "output_type": "execute_result",
     "data": {
      "text/plain": [
       "0.02902056649327278"
      ]
     },
     "metadata": {},
     "execution_count": 17
    }
   ],
   "source": [
    "# Evaluate the model\n",
    "model.evaluate(X_test, y_test)"
   ]
  },
  {
   "cell_type": "code",
   "execution_count": 19,
   "metadata": {},
   "outputs": [
    {
     "output_type": "error",
     "ename": "SyntaxError",
     "evalue": "invalid syntax (<ipython-input-19-ea6d9c84a7cd>, line 7)",
     "traceback": [
      "\u001b[1;36m  File \u001b[1;32m\"<ipython-input-19-ea6d9c84a7cd>\"\u001b[1;36m, line \u001b[1;32m7\u001b[0m\n\u001b[1;33m    for i inrange(1, num_days + 1):\u001b[0m\n\u001b[1;37m          ^\u001b[0m\n\u001b[1;31mSyntaxError\u001b[0m\u001b[1;31m:\u001b[0m invalid syntax\n"
     ]
    }
   ],
   "source": [
    "# Loop to build each day's prediction.\n",
    "predicted = model.predict(X_test)\n",
    "\n",
    "current_day = pd.to_datetime( datetime.now().strftime(\"%Y-%m-%d\") )\n",
    "num_days = 20\n",
    "\n",
    "for i inrange(1, num_days + 1):\n",
    "\n",
    "\n",
    "X, y = append_window_data(X, y, df, num_trailing_windows=1, window_length=10, feature_col_number=1, target_col_number=1)\n",
    "\n",
    "\n",
    "# # Append days in the future\n",
    "# from datetime import datetime\n",
    "# from datetime import timedelta\n",
    "\n",
    "# current_day = pd.to_datetime( datetime.now().strftime(\"%Y-%m-%d\") )\n",
    "# num_days = 20\n",
    "\n",
    "# for i in range(1, num_days + 1):\n",
    "#     df.loc[current_day + timedelta(days=i)] = [\"BTC\", 0, 0, 0, 0]\n",
    "\n",
    "# df.tail()\n"
   ]
  },
  {
   "cell_type": "code",
   "execution_count": 21,
   "metadata": {},
   "outputs": [
    {
     "output_type": "error",
     "ename": "NameError",
     "evalue": "name 'predicted' is not defined",
     "traceback": [
      "\u001b[1;31m---------------------------------------------------------------------------\u001b[0m",
      "\u001b[1;31mNameError\u001b[0m                                 Traceback (most recent call last)",
      "\u001b[1;32m<ipython-input-21-2c60b6890b0c>\u001b[0m in \u001b[0;36m<module>\u001b[1;34m\u001b[0m\n\u001b[0;32m      1\u001b[0m \u001b[1;31m# Recover the original prices instead of the scaled version\u001b[0m\u001b[1;33m\u001b[0m\u001b[1;33m\u001b[0m\u001b[1;33m\u001b[0m\u001b[0m\n\u001b[1;32m----> 2\u001b[1;33m \u001b[0mpredicted_prices\u001b[0m \u001b[1;33m=\u001b[0m \u001b[0mscaler\u001b[0m\u001b[1;33m.\u001b[0m\u001b[0minverse_transform\u001b[0m\u001b[1;33m(\u001b[0m\u001b[0mpredicted\u001b[0m\u001b[1;33m)\u001b[0m\u001b[1;33m\u001b[0m\u001b[1;33m\u001b[0m\u001b[0m\n\u001b[0m\u001b[0;32m      3\u001b[0m \u001b[0mreal_prices\u001b[0m \u001b[1;33m=\u001b[0m \u001b[0mscaler\u001b[0m\u001b[1;33m.\u001b[0m\u001b[0minverse_transform\u001b[0m\u001b[1;33m(\u001b[0m\u001b[0my_test\u001b[0m\u001b[1;33m.\u001b[0m\u001b[0mreshape\u001b[0m\u001b[1;33m(\u001b[0m\u001b[1;33m-\u001b[0m\u001b[1;36m1\u001b[0m\u001b[1;33m,\u001b[0m \u001b[1;36m1\u001b[0m\u001b[1;33m)\u001b[0m\u001b[1;33m)\u001b[0m\u001b[1;33m\u001b[0m\u001b[1;33m\u001b[0m\u001b[0m\n",
      "\u001b[1;31mNameError\u001b[0m: name 'predicted' is not defined"
     ]
    }
   ],
   "source": [
    "# Recover the original prices instead of the scaled version\n",
    "predicted_prices = scaler.inverse_transform(predicted)\n",
    "real_prices = scaler.inverse_transform(y_test.reshape(-1, 1))"
   ]
  },
  {
   "cell_type": "code",
   "execution_count": null,
   "metadata": {},
   "outputs": [],
   "source": [
    "# Create a DataFrame of Real and Predicted values\n",
    "stocks = pd.DataFrame({\n",
    "    \"Real\": real_prices.ravel(),\n",
    "    \"Predicted\": predicted_prices.ravel()\n",
    "}, index = df.index[-len(real_prices): ]) \n",
    "stocks.head()"
   ]
  },
  {
   "cell_type": "code",
   "execution_count": null,
   "metadata": {},
   "outputs": [],
   "source": [
    "# Plot the real vs predicted values as a line chart\n",
    "stocks.plot()"
   ]
  },
  {
   "cell_type": "code",
   "execution_count": null,
   "metadata": {},
   "outputs": [],
   "source": []
  }
 ],
 "metadata": {
  "file_extension": ".py",
  "kernelspec": {
   "name": "python3",
   "display_name": "Python 3.8.3 64-bit (conda)",
   "metadata": {
    "interpreter": {
     "hash": "b3ba2566441a7c06988d0923437866b63cedc61552a5af99d1f4fb67d367b25f"
    }
   }
  },
  "language_info": {
   "codemirror_mode": {
    "name": "ipython",
    "version": 3
   },
   "file_extension": ".py",
   "mimetype": "text/x-python",
   "name": "python",
   "nbconvert_exporter": "python",
   "pygments_lexer": "ipython3",
   "version": "3.8.3-final"
  },
  "mimetype": "text/x-python",
  "name": "python",
  "npconvert_exporter": "python",
  "pygments_lexer": "ipython3",
  "version": 3
 },
 "nbformat": 4,
 "nbformat_minor": 4
}