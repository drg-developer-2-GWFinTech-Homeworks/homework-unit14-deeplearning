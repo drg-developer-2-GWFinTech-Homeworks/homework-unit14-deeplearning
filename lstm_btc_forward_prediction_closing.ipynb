{
 "cells": [
  {
   "cell_type": "markdown",
   "metadata": {},
   "source": [
    "# LSTM Stock Predictor Using Closing Prices\n",
    "\n",
    "In this notebook, you will build and train a custom LSTM RNN that uses a 10 day window of Bitcoin closing prices to predict the 11th day closing price. \n",
    "\n",
    "You will need to:\n",
    "\n",
    "1. Prepare the data for training and testing\n",
    "2. Build and train a custom LSTM RNN\n",
    "3. Evaluate the performance of the model"
   ]
  },
  {
   "cell_type": "markdown",
   "metadata": {},
   "source": [
    "## Data Preparation\n",
    "\n",
    "In this section, you will need to prepare the training and testing data for the model. The model will use a rolling 10 day window to predict the 11th day closing price.\n",
    "\n",
    "You will need to:\n",
    "1. Use the `window_data` function to generate the X and y values for the model.\n",
    "2. Split the data into 70% training and 30% testing\n",
    "3. Apply the MinMaxScaler to the X and y values\n",
    "4. Reshape the X_train and X_test data for the model. Note: The required input format for the LSTM is:\n",
    "\n",
    "```python\n",
    "reshape((X_train.shape[0], X_train.shape[1], 1))\n",
    "```"
   ]
  },
  {
   "cell_type": "code",
   "execution_count": 81,
   "metadata": {},
   "outputs": [],
   "source": [
    "import numpy as np\n",
    "import pandas as pd\n",
    "import hvplot.pandas"
   ]
  },
  {
   "cell_type": "code",
   "execution_count": 82,
   "metadata": {},
   "outputs": [],
   "source": [
    "# Set the random seed for reproducibility\n",
    "# Note: This is for the homework solution, but it is good practice to comment this out and run multiple experiments to evaluate your model\n",
    "from numpy.random import seed\n",
    "seed(1)\n",
    "from tensorflow import random\n",
    "random.set_seed(2)"
   ]
  },
  {
   "cell_type": "code",
   "execution_count": 83,
   "metadata": {},
   "outputs": [
    {
     "data": {
      "text/html": [
       "<div>\n",
       "<style scoped>\n",
       "    .dataframe tbody tr th:only-of-type {\n",
       "        vertical-align: middle;\n",
       "    }\n",
       "\n",
       "    .dataframe tbody tr th {\n",
       "        vertical-align: top;\n",
       "    }\n",
       "\n",
       "    .dataframe thead th {\n",
       "        text-align: right;\n",
       "    }\n",
       "</style>\n",
       "<table border=\"1\" class=\"dataframe\">\n",
       "  <thead>\n",
       "    <tr style=\"text-align: right;\">\n",
       "      <th></th>\n",
       "      <th>Currency</th>\n",
       "      <th>Closing Price (USD)</th>\n",
       "      <th>24h Open (USD)</th>\n",
       "      <th>24h High (USD)</th>\n",
       "      <th>24h Low (USD)</th>\n",
       "    </tr>\n",
       "    <tr>\n",
       "      <th>Date</th>\n",
       "      <th></th>\n",
       "      <th></th>\n",
       "      <th></th>\n",
       "      <th></th>\n",
       "      <th></th>\n",
       "    </tr>\n",
       "  </thead>\n",
       "  <tbody>\n",
       "    <tr>\n",
       "      <th>2013-10-01</th>\n",
       "      <td>BTC</td>\n",
       "      <td>123.65499</td>\n",
       "      <td>124.30466</td>\n",
       "      <td>124.75166</td>\n",
       "      <td>122.56349</td>\n",
       "    </tr>\n",
       "    <tr>\n",
       "      <th>2013-10-02</th>\n",
       "      <td>BTC</td>\n",
       "      <td>125.45500</td>\n",
       "      <td>123.65499</td>\n",
       "      <td>125.75850</td>\n",
       "      <td>123.63383</td>\n",
       "    </tr>\n",
       "    <tr>\n",
       "      <th>2013-10-03</th>\n",
       "      <td>BTC</td>\n",
       "      <td>108.58483</td>\n",
       "      <td>125.45500</td>\n",
       "      <td>125.66566</td>\n",
       "      <td>83.32833</td>\n",
       "    </tr>\n",
       "    <tr>\n",
       "      <th>2013-10-04</th>\n",
       "      <td>BTC</td>\n",
       "      <td>118.67466</td>\n",
       "      <td>108.58483</td>\n",
       "      <td>118.67500</td>\n",
       "      <td>107.05816</td>\n",
       "    </tr>\n",
       "    <tr>\n",
       "      <th>2013-10-05</th>\n",
       "      <td>BTC</td>\n",
       "      <td>121.33866</td>\n",
       "      <td>118.67466</td>\n",
       "      <td>121.93633</td>\n",
       "      <td>118.00566</td>\n",
       "    </tr>\n",
       "  </tbody>\n",
       "</table>\n",
       "</div>"
      ],
      "text/plain": [
       "           Currency  Closing Price (USD)  24h Open (USD)  24h High (USD)  \\\n",
       "Date                                                                       \n",
       "2013-10-01      BTC            123.65499       124.30466       124.75166   \n",
       "2013-10-02      BTC            125.45500       123.65499       125.75850   \n",
       "2013-10-03      BTC            108.58483       125.45500       125.66566   \n",
       "2013-10-04      BTC            118.67466       108.58483       118.67500   \n",
       "2013-10-05      BTC            121.33866       118.67466       121.93633   \n",
       "\n",
       "            24h Low (USD)  \n",
       "Date                       \n",
       "2013-10-01      122.56349  \n",
       "2013-10-02      123.63383  \n",
       "2013-10-03       83.32833  \n",
       "2013-10-04      107.05816  \n",
       "2013-10-05      118.00566  "
      ]
     },
     "execution_count": 83,
     "metadata": {},
     "output_type": "execute_result"
    }
   ],
   "source": [
    "# Load the historical closing prices for Bitcoin\n",
    "df = pd.read_csv('Resources/BTC_USD_2013-10-01_2020-12-29-CoinDesk.csv', index_col=\"Date\", infer_datetime_format=True, parse_dates=True)\n",
    "df.head()"
   ]
  },
  {
   "cell_type": "code",
   "execution_count": null,
   "metadata": {},
   "outputs": [],
   "source": []
  },
  {
   "cell_type": "code",
   "execution_count": null,
   "metadata": {},
   "outputs": [],
   "source": []
  },
  {
   "cell_type": "code",
   "execution_count": null,
   "metadata": {},
   "outputs": [],
   "source": []
  },
  {
   "cell_type": "code",
   "execution_count": null,
   "metadata": {},
   "outputs": [],
   "source": []
  },
  {
   "cell_type": "code",
   "execution_count": 84,
   "metadata": {},
   "outputs": [],
   "source": [
    "# # Append days in the future\n",
    "# from datetime import datetime\n",
    "# from datetime import timedelta\n",
    "\n",
    "# current_day = pd.to_datetime( datetime.now().strftime(\"%Y-%m-%d\") )\n",
    "# num_days = 20\n",
    "\n",
    "# for i in range(1, num_days + 1):\n",
    "#     df.loc[current_day + timedelta(days=i)] = [\"BTC\", 0, 0, 0, 0]\n",
    "\n",
    "# df.tail()"
   ]
  },
  {
   "cell_type": "code",
   "execution_count": 86,
   "metadata": {},
   "outputs": [],
   "source": [
    "# This function accepts the column number for the features (X) and the target (y)\n",
    "# It chunks the data up with a rolling window of Xt-n to predict Xt\n",
    "# It returns a numpy array of X any y\n",
    "def window_data(df, window, feature_col_number, target_col_number):\n",
    "    X = []\n",
    "    y = []\n",
    "#     for i in range(len(df) - window - 1):\n",
    "    for i in range(len(df) - window):\n",
    "        features = df.iloc[i:(i + window), feature_col_number]\n",
    "            # max i = 2637 - 10 - 1    - 1 = 2625\n",
    "            # i:(i + window) for maxi =  2625:(2635)      (len(df) == 2637)\n",
    "        target = df.iloc[(i + window), target_col_number]\n",
    "        X.append(features)\n",
    "        y.append(target)\n",
    "    return np.array(X), np.array(y).reshape(-1, 1)"
   ]
  },
  {
   "cell_type": "code",
   "execution_count": 133,
   "metadata": {},
   "outputs": [],
   "source": [
    "# [0, 1, 2, 3, 4, 5, 6, 7, 8, 9]\n",
    "\n",
    "# (10-2+1) - (2-1)\n",
    "\n",
    "# 10-2\n",
    "# 8\n",
    "\n",
    "def append_window_data(df, num_trailing_windows, window_length, feature_col_number, target_col_number):\n",
    "    X = []\n",
    "    y = []\n",
    "\n",
    "    i_start = len(df) - window_length - num_trailing_windows\n",
    "    i_end = i_start + num_trailing_windows\n",
    "    \n",
    "#     print(f\"i_start {i_start}  i_end {i_end}\")\n",
    "    \n",
    "    for i in range(i_start, i_end):\n",
    "\n",
    "#         print(f\"i {i}\")\n",
    "        \n",
    "#         print(f\"features range: {[i, (i + window_length)]}\")\n",
    "        features = df.iloc[i:(i + window_length), feature_col_number]\n",
    "#         print(f\"target range: {[i + window_length]}\")\n",
    "        target = df.iloc[i + window_length, target_col_number]\n",
    "        \n",
    "#         print(f\"features {features}\")\n",
    "#         print(f\"target {target}\")\n",
    "        \n",
    "        X.append(features)\n",
    "        y.append(target)\n",
    "    return np.array(X), np.array(y).reshape(-1, 1)\n"
   ]
  },
  {
   "cell_type": "code",
   "execution_count": 134,
   "metadata": {},
   "outputs": [
    {
     "data": {
      "text/html": [
       "<div>\n",
       "<style scoped>\n",
       "    .dataframe tbody tr th:only-of-type {\n",
       "        vertical-align: middle;\n",
       "    }\n",
       "\n",
       "    .dataframe tbody tr th {\n",
       "        vertical-align: top;\n",
       "    }\n",
       "\n",
       "    .dataframe thead th {\n",
       "        text-align: right;\n",
       "    }\n",
       "</style>\n",
       "<table border=\"1\" class=\"dataframe\">\n",
       "  <thead>\n",
       "    <tr style=\"text-align: right;\">\n",
       "      <th></th>\n",
       "      <th>Currency</th>\n",
       "      <th>Closing Price (USD)</th>\n",
       "      <th>24h Open (USD)</th>\n",
       "      <th>24h High (USD)</th>\n",
       "      <th>24h Low (USD)</th>\n",
       "    </tr>\n",
       "    <tr>\n",
       "      <th>Date</th>\n",
       "      <th></th>\n",
       "      <th></th>\n",
       "      <th></th>\n",
       "      <th></th>\n",
       "      <th></th>\n",
       "    </tr>\n",
       "  </thead>\n",
       "  <tbody>\n",
       "    <tr>\n",
       "      <th>2020-12-10</th>\n",
       "      <td>BTC</td>\n",
       "      <td>18359.476600</td>\n",
       "      <td>18557.452909</td>\n",
       "      <td>18565.216167</td>\n",
       "      <td>17904.068986</td>\n",
       "    </tr>\n",
       "    <tr>\n",
       "      <th>2020-12-11</th>\n",
       "      <td>BTC</td>\n",
       "      <td>18137.319375</td>\n",
       "      <td>18255.773754</td>\n",
       "      <td>18293.552732</td>\n",
       "      <td>17593.172099</td>\n",
       "    </tr>\n",
       "    <tr>\n",
       "      <th>2020-12-12</th>\n",
       "      <td>BTC</td>\n",
       "      <td>18882.260171</td>\n",
       "      <td>18040.170620</td>\n",
       "      <td>18956.344444</td>\n",
       "      <td>18029.143166</td>\n",
       "    </tr>\n",
       "    <tr>\n",
       "      <th>2020-12-13</th>\n",
       "      <td>BTC</td>\n",
       "      <td>19060.276901</td>\n",
       "      <td>18822.509939</td>\n",
       "      <td>19408.674653</td>\n",
       "      <td>18726.847085</td>\n",
       "    </tr>\n",
       "    <tr>\n",
       "      <th>2020-12-14</th>\n",
       "      <td>BTC</td>\n",
       "      <td>19251.224005</td>\n",
       "      <td>19161.138466</td>\n",
       "      <td>19323.165315</td>\n",
       "      <td>19015.685970</td>\n",
       "    </tr>\n",
       "    <tr>\n",
       "      <th>2020-12-15</th>\n",
       "      <td>BTC</td>\n",
       "      <td>19443.476353</td>\n",
       "      <td>19264.670301</td>\n",
       "      <td>19552.371978</td>\n",
       "      <td>19053.342472</td>\n",
       "    </tr>\n",
       "    <tr>\n",
       "      <th>2020-12-16</th>\n",
       "      <td>BTC</td>\n",
       "      <td>21310.656262</td>\n",
       "      <td>19433.141368</td>\n",
       "      <td>21447.523852</td>\n",
       "      <td>19293.298961</td>\n",
       "    </tr>\n",
       "    <tr>\n",
       "      <th>2020-12-17</th>\n",
       "      <td>BTC</td>\n",
       "      <td>22895.976238</td>\n",
       "      <td>21351.254809</td>\n",
       "      <td>23770.846569</td>\n",
       "      <td>21248.365335</td>\n",
       "    </tr>\n",
       "    <tr>\n",
       "      <th>2020-12-18</th>\n",
       "      <td>BTC</td>\n",
       "      <td>23008.776257</td>\n",
       "      <td>22819.558896</td>\n",
       "      <td>23261.252880</td>\n",
       "      <td>22357.607647</td>\n",
       "    </tr>\n",
       "    <tr>\n",
       "      <th>2020-12-19</th>\n",
       "      <td>BTC</td>\n",
       "      <td>23890.822649</td>\n",
       "      <td>23126.606765</td>\n",
       "      <td>24122.673268</td>\n",
       "      <td>22781.876781</td>\n",
       "    </tr>\n",
       "    <tr>\n",
       "      <th>2020-12-20</th>\n",
       "      <td>BTC</td>\n",
       "      <td>23537.369891</td>\n",
       "      <td>23829.284804</td>\n",
       "      <td>24273.041505</td>\n",
       "      <td>23085.954770</td>\n",
       "    </tr>\n",
       "    <tr>\n",
       "      <th>2020-12-21</th>\n",
       "      <td>BTC</td>\n",
       "      <td>23177.270998</td>\n",
       "      <td>23476.087500</td>\n",
       "      <td>24081.053094</td>\n",
       "      <td>21960.191348</td>\n",
       "    </tr>\n",
       "    <tr>\n",
       "      <th>2020-12-22</th>\n",
       "      <td>BTC</td>\n",
       "      <td>23433.980758</td>\n",
       "      <td>22729.659291</td>\n",
       "      <td>23629.404460</td>\n",
       "      <td>22384.127846</td>\n",
       "    </tr>\n",
       "    <tr>\n",
       "      <th>2020-12-23</th>\n",
       "      <td>BTC</td>\n",
       "      <td>23224.454138</td>\n",
       "      <td>23791.565294</td>\n",
       "      <td>24086.950661</td>\n",
       "      <td>22644.561058</td>\n",
       "    </tr>\n",
       "    <tr>\n",
       "      <th>2020-12-24</th>\n",
       "      <td>BTC</td>\n",
       "      <td>23623.885533</td>\n",
       "      <td>23228.909087</td>\n",
       "      <td>23737.757149</td>\n",
       "      <td>22716.174167</td>\n",
       "    </tr>\n",
       "    <tr>\n",
       "      <th>2020-12-25</th>\n",
       "      <td>BTC</td>\n",
       "      <td>24581.006171</td>\n",
       "      <td>23726.190999</td>\n",
       "      <td>24627.297914</td>\n",
       "      <td>23422.310325</td>\n",
       "    </tr>\n",
       "    <tr>\n",
       "      <th>2020-12-26</th>\n",
       "      <td>BTC</td>\n",
       "      <td>26381.296233</td>\n",
       "      <td>24708.206784</td>\n",
       "      <td>26750.879954</td>\n",
       "      <td>24497.410869</td>\n",
       "    </tr>\n",
       "    <tr>\n",
       "      <th>2020-12-27</th>\n",
       "      <td>BTC</td>\n",
       "      <td>26389.290265</td>\n",
       "      <td>26447.708072</td>\n",
       "      <td>28352.627824</td>\n",
       "      <td>25759.068609</td>\n",
       "    </tr>\n",
       "    <tr>\n",
       "      <th>2020-12-28</th>\n",
       "      <td>BTC</td>\n",
       "      <td>26718.029463</td>\n",
       "      <td>26226.066130</td>\n",
       "      <td>27447.551384</td>\n",
       "      <td>26046.625578</td>\n",
       "    </tr>\n",
       "    <tr>\n",
       "      <th>2020-12-29</th>\n",
       "      <td>BTC</td>\n",
       "      <td>26975.729565</td>\n",
       "      <td>27038.735676</td>\n",
       "      <td>27169.225558</td>\n",
       "      <td>25875.049786</td>\n",
       "    </tr>\n",
       "  </tbody>\n",
       "</table>\n",
       "</div>"
      ],
      "text/plain": [
       "           Currency  Closing Price (USD)  24h Open (USD)  24h High (USD)  \\\n",
       "Date                                                                       \n",
       "2020-12-10      BTC         18359.476600    18557.452909    18565.216167   \n",
       "2020-12-11      BTC         18137.319375    18255.773754    18293.552732   \n",
       "2020-12-12      BTC         18882.260171    18040.170620    18956.344444   \n",
       "2020-12-13      BTC         19060.276901    18822.509939    19408.674653   \n",
       "2020-12-14      BTC         19251.224005    19161.138466    19323.165315   \n",
       "2020-12-15      BTC         19443.476353    19264.670301    19552.371978   \n",
       "2020-12-16      BTC         21310.656262    19433.141368    21447.523852   \n",
       "2020-12-17      BTC         22895.976238    21351.254809    23770.846569   \n",
       "2020-12-18      BTC         23008.776257    22819.558896    23261.252880   \n",
       "2020-12-19      BTC         23890.822649    23126.606765    24122.673268   \n",
       "2020-12-20      BTC         23537.369891    23829.284804    24273.041505   \n",
       "2020-12-21      BTC         23177.270998    23476.087500    24081.053094   \n",
       "2020-12-22      BTC         23433.980758    22729.659291    23629.404460   \n",
       "2020-12-23      BTC         23224.454138    23791.565294    24086.950661   \n",
       "2020-12-24      BTC         23623.885533    23228.909087    23737.757149   \n",
       "2020-12-25      BTC         24581.006171    23726.190999    24627.297914   \n",
       "2020-12-26      BTC         26381.296233    24708.206784    26750.879954   \n",
       "2020-12-27      BTC         26389.290265    26447.708072    28352.627824   \n",
       "2020-12-28      BTC         26718.029463    26226.066130    27447.551384   \n",
       "2020-12-29      BTC         26975.729565    27038.735676    27169.225558   \n",
       "\n",
       "            24h Low (USD)  \n",
       "Date                       \n",
       "2020-12-10   17904.068986  \n",
       "2020-12-11   17593.172099  \n",
       "2020-12-12   18029.143166  \n",
       "2020-12-13   18726.847085  \n",
       "2020-12-14   19015.685970  \n",
       "2020-12-15   19053.342472  \n",
       "2020-12-16   19293.298961  \n",
       "2020-12-17   21248.365335  \n",
       "2020-12-18   22357.607647  \n",
       "2020-12-19   22781.876781  \n",
       "2020-12-20   23085.954770  \n",
       "2020-12-21   21960.191348  \n",
       "2020-12-22   22384.127846  \n",
       "2020-12-23   22644.561058  \n",
       "2020-12-24   22716.174167  \n",
       "2020-12-25   23422.310325  \n",
       "2020-12-26   24497.410869  \n",
       "2020-12-27   25759.068609  \n",
       "2020-12-28   26046.625578  \n",
       "2020-12-29   25875.049786  "
      ]
     },
     "execution_count": 134,
     "metadata": {},
     "output_type": "execute_result"
    }
   ],
   "source": [
    "df.tail(20)"
   ]
  },
  {
   "cell_type": "code",
   "execution_count": 135,
   "metadata": {},
   "outputs": [
    {
     "data": {
      "text/plain": [
       "(array([[26389.29026494, 26718.0294634 ]]), array([[26975.72956452]]))"
      ]
     },
     "execution_count": 135,
     "metadata": {},
     "output_type": "execute_result"
    }
   ],
   "source": [
    "append_window_data(df, num_trailing_windows=1, window_length=2, feature_col_number=1, target_col_number=1)"
   ]
  },
  {
   "cell_type": "code",
   "execution_count": 136,
   "metadata": {},
   "outputs": [
    {
     "data": {
      "text/plain": [
       "(array([[23623.88553323, 24581.00617127],\n",
       "        [24581.00617127, 26381.29623292],\n",
       "        [26381.29623292, 26389.29026494],\n",
       "        [26389.29026494, 26718.0294634 ]]),\n",
       " array([[26381.29623292],\n",
       "        [26389.29026494],\n",
       "        [26718.0294634 ],\n",
       "        [26975.72956452]]))"
      ]
     },
     "execution_count": 136,
     "metadata": {},
     "output_type": "execute_result"
    }
   ],
   "source": [
    "append_window_data(df, num_trailing_windows=4, window_length=2, feature_col_number=1, target_col_number=1)"
   ]
  },
  {
   "cell_type": "code",
   "execution_count": 137,
   "metadata": {},
   "outputs": [
    {
     "data": {
      "text/plain": [
       "(array([[26381.29623292, 26389.29026494, 26718.0294634 ]]),\n",
       " array([[26975.72956452]]))"
      ]
     },
     "execution_count": 137,
     "metadata": {},
     "output_type": "execute_result"
    }
   ],
   "source": [
    "append_window_data(df, num_trailing_windows=1, window_length=3, feature_col_number=1, target_col_number=1)"
   ]
  },
  {
   "cell_type": "code",
   "execution_count": 138,
   "metadata": {},
   "outputs": [
    {
     "data": {
      "text/plain": [
       "(array([[23224.45413785, 23623.88553323, 24581.00617127],\n",
       "        [23623.88553323, 24581.00617127, 26381.29623292],\n",
       "        [24581.00617127, 26381.29623292, 26389.29026494],\n",
       "        [26381.29623292, 26389.29026494, 26718.0294634 ]]),\n",
       " array([[26381.29623292],\n",
       "        [26389.29026494],\n",
       "        [26718.0294634 ],\n",
       "        [26975.72956452]]))"
      ]
     },
     "execution_count": 138,
     "metadata": {},
     "output_type": "execute_result"
    }
   ],
   "source": [
    "append_window_data(df, num_trailing_windows=4, window_length=3, feature_col_number=1, target_col_number=1)"
   ]
  },
  {
   "cell_type": "code",
   "execution_count": null,
   "metadata": {},
   "outputs": [],
   "source": []
  },
  {
   "cell_type": "code",
   "execution_count": null,
   "metadata": {},
   "outputs": [],
   "source": []
  },
  {
   "cell_type": "code",
   "execution_count": null,
   "metadata": {},
   "outputs": [],
   "source": [
    "# def window_data(df, sequence_start, sequence_length, window, feature_col_number, target_col_number):\n",
    "#     X = []\n",
    "#     y = []\n",
    "#     for i in range(sequence_start, sequence_length - window):\n",
    "#         features = df.iloc[i:(i + window), feature_col_number]\n",
    "#         target = df.iloc[(i + window), target_col_number]\n",
    "#         X.append(features)\n",
    "#         y.append(target)\n",
    "#     return np.array(X), np.array(y).reshape(-1, 1)"
   ]
  },
  {
   "cell_type": "code",
   "execution_count": 87,
   "metadata": {},
   "outputs": [],
   "source": [
    "# Predict Closing Prices using a 10 day window of previous closing prices\n",
    "# Then, experiment with window sizes anywhere from 1 to 10 and see how the model performance changes\n",
    "window_size = 10\n",
    "\n",
    "# Column index 0 is the 'fng_value' column\n",
    "# Column index 1 is the `Close` column\n",
    "feature_column = 1\n",
    "target_column = 1\n",
    "X, y = window_data(df, window_size, feature_column, target_column)"
   ]
  },
  {
   "cell_type": "code",
   "execution_count": 88,
   "metadata": {},
   "outputs": [],
   "source": [
    "# Use 70% of the data for training and the remaineder for testing\n",
    "split = int(0.7 * len(X))\n",
    "X_train = X[:split]\n",
    "X_test = X[split:]\n",
    "y_train = y[:split]\n",
    "y_test = y[split:]"
   ]
  },
  {
   "cell_type": "code",
   "execution_count": 89,
   "metadata": {},
   "outputs": [
    {
     "data": {
      "text/html": [
       "<div>\n",
       "<style scoped>\n",
       "    .dataframe tbody tr th:only-of-type {\n",
       "        vertical-align: middle;\n",
       "    }\n",
       "\n",
       "    .dataframe tbody tr th {\n",
       "        vertical-align: top;\n",
       "    }\n",
       "\n",
       "    .dataframe thead th {\n",
       "        text-align: right;\n",
       "    }\n",
       "</style>\n",
       "<table border=\"1\" class=\"dataframe\">\n",
       "  <thead>\n",
       "    <tr style=\"text-align: right;\">\n",
       "      <th></th>\n",
       "      <th>Currency</th>\n",
       "      <th>Closing Price (USD)</th>\n",
       "      <th>24h Open (USD)</th>\n",
       "      <th>24h High (USD)</th>\n",
       "      <th>24h Low (USD)</th>\n",
       "    </tr>\n",
       "    <tr>\n",
       "      <th>Date</th>\n",
       "      <th></th>\n",
       "      <th></th>\n",
       "      <th></th>\n",
       "      <th></th>\n",
       "      <th></th>\n",
       "    </tr>\n",
       "  </thead>\n",
       "  <tbody>\n",
       "    <tr>\n",
       "      <th>2020-12-20</th>\n",
       "      <td>BTC</td>\n",
       "      <td>23537.369891</td>\n",
       "      <td>23829.284804</td>\n",
       "      <td>24273.041505</td>\n",
       "      <td>23085.954770</td>\n",
       "    </tr>\n",
       "    <tr>\n",
       "      <th>2020-12-21</th>\n",
       "      <td>BTC</td>\n",
       "      <td>23177.270998</td>\n",
       "      <td>23476.087500</td>\n",
       "      <td>24081.053094</td>\n",
       "      <td>21960.191348</td>\n",
       "    </tr>\n",
       "    <tr>\n",
       "      <th>2020-12-22</th>\n",
       "      <td>BTC</td>\n",
       "      <td>23433.980758</td>\n",
       "      <td>22729.659291</td>\n",
       "      <td>23629.404460</td>\n",
       "      <td>22384.127846</td>\n",
       "    </tr>\n",
       "    <tr>\n",
       "      <th>2020-12-23</th>\n",
       "      <td>BTC</td>\n",
       "      <td>23224.454138</td>\n",
       "      <td>23791.565294</td>\n",
       "      <td>24086.950661</td>\n",
       "      <td>22644.561058</td>\n",
       "    </tr>\n",
       "    <tr>\n",
       "      <th>2020-12-24</th>\n",
       "      <td>BTC</td>\n",
       "      <td>23623.885533</td>\n",
       "      <td>23228.909087</td>\n",
       "      <td>23737.757149</td>\n",
       "      <td>22716.174167</td>\n",
       "    </tr>\n",
       "    <tr>\n",
       "      <th>2020-12-25</th>\n",
       "      <td>BTC</td>\n",
       "      <td>24581.006171</td>\n",
       "      <td>23726.190999</td>\n",
       "      <td>24627.297914</td>\n",
       "      <td>23422.310325</td>\n",
       "    </tr>\n",
       "    <tr>\n",
       "      <th>2020-12-26</th>\n",
       "      <td>BTC</td>\n",
       "      <td>26381.296233</td>\n",
       "      <td>24708.206784</td>\n",
       "      <td>26750.879954</td>\n",
       "      <td>24497.410869</td>\n",
       "    </tr>\n",
       "    <tr>\n",
       "      <th>2020-12-27</th>\n",
       "      <td>BTC</td>\n",
       "      <td>26389.290265</td>\n",
       "      <td>26447.708072</td>\n",
       "      <td>28352.627824</td>\n",
       "      <td>25759.068609</td>\n",
       "    </tr>\n",
       "    <tr>\n",
       "      <th>2020-12-28</th>\n",
       "      <td>BTC</td>\n",
       "      <td>26718.029463</td>\n",
       "      <td>26226.066130</td>\n",
       "      <td>27447.551384</td>\n",
       "      <td>26046.625578</td>\n",
       "    </tr>\n",
       "    <tr>\n",
       "      <th>2020-12-29</th>\n",
       "      <td>BTC</td>\n",
       "      <td>26975.729565</td>\n",
       "      <td>27038.735676</td>\n",
       "      <td>27169.225558</td>\n",
       "      <td>25875.049786</td>\n",
       "    </tr>\n",
       "  </tbody>\n",
       "</table>\n",
       "</div>"
      ],
      "text/plain": [
       "           Currency  Closing Price (USD)  24h Open (USD)  24h High (USD)  \\\n",
       "Date                                                                       \n",
       "2020-12-20      BTC         23537.369891    23829.284804    24273.041505   \n",
       "2020-12-21      BTC         23177.270998    23476.087500    24081.053094   \n",
       "2020-12-22      BTC         23433.980758    22729.659291    23629.404460   \n",
       "2020-12-23      BTC         23224.454138    23791.565294    24086.950661   \n",
       "2020-12-24      BTC         23623.885533    23228.909087    23737.757149   \n",
       "2020-12-25      BTC         24581.006171    23726.190999    24627.297914   \n",
       "2020-12-26      BTC         26381.296233    24708.206784    26750.879954   \n",
       "2020-12-27      BTC         26389.290265    26447.708072    28352.627824   \n",
       "2020-12-28      BTC         26718.029463    26226.066130    27447.551384   \n",
       "2020-12-29      BTC         26975.729565    27038.735676    27169.225558   \n",
       "\n",
       "            24h Low (USD)  \n",
       "Date                       \n",
       "2020-12-20   23085.954770  \n",
       "2020-12-21   21960.191348  \n",
       "2020-12-22   22384.127846  \n",
       "2020-12-23   22644.561058  \n",
       "2020-12-24   22716.174167  \n",
       "2020-12-25   23422.310325  \n",
       "2020-12-26   24497.410869  \n",
       "2020-12-27   25759.068609  \n",
       "2020-12-28   26046.625578  \n",
       "2020-12-29   25875.049786  "
      ]
     },
     "execution_count": 89,
     "metadata": {},
     "output_type": "execute_result"
    }
   ],
   "source": [
    "df.tail(10)"
   ]
  },
  {
   "cell_type": "code",
   "execution_count": 90,
   "metadata": {},
   "outputs": [
    {
     "data": {
      "text/plain": [
       "array([23890.82264887, 23537.36989089, 23177.27099799, 23433.98075814,\n",
       "       23224.45413785, 23623.88553323, 24581.00617127, 26381.29623292,\n",
       "       26389.29026494, 26718.0294634 ])"
      ]
     },
     "execution_count": 90,
     "metadata": {},
     "output_type": "execute_result"
    }
   ],
   "source": [
    "X_test[X_test.shape[0]-1]"
   ]
  },
  {
   "cell_type": "code",
   "execution_count": null,
   "metadata": {},
   "outputs": [],
   "source": []
  },
  {
   "cell_type": "code",
   "execution_count": null,
   "metadata": {},
   "outputs": [],
   "source": []
  },
  {
   "cell_type": "code",
   "execution_count": 51,
   "metadata": {},
   "outputs": [
    {
     "data": {
      "text/plain": [
       "array([[ 123.65499   ,  125.455     ,  108.58483   , ...,  123.033     ,\n",
       "         124.049     ,  125.96116   ],\n",
       "       [ 125.455     ,  108.58483   ,  118.67466   , ...,  124.049     ,\n",
       "         125.96116   ,  125.27966   ],\n",
       "       [ 108.58483   ,  118.67466   ,  121.33866   , ...,  125.96116   ,\n",
       "         125.27966   ,  125.9275    ],\n",
       "       ...,\n",
       "       [6321.71367131, 6341.09481265, 6360.14127192, ..., 6514.48945274,\n",
       "        6412.52428906, 6343.63250376],\n",
       "       [6341.09481265, 6360.14127192, 6344.73894294, ..., 6412.52428906,\n",
       "        6343.63250376, 6365.65523152],\n",
       "       [6360.14127192, 6344.73894294, 6405.13975468, ..., 6343.63250376,\n",
       "        6365.65523152, 6327.4806461 ]])"
      ]
     },
     "execution_count": 51,
     "metadata": {},
     "output_type": "execute_result"
    }
   ],
   "source": [
    "X[:split]"
   ]
  },
  {
   "cell_type": "code",
   "execution_count": 52,
   "metadata": {},
   "outputs": [
    {
     "data": {
      "text/plain": [
       "array([[6344.73894294, 6405.13975468, 6396.35212354, ..., 6365.65523152,\n",
       "        6327.4806461 , 6327.15469606],\n",
       "       [6405.13975468, 6396.35212354, 6425.91780182, ..., 6327.4806461 ,\n",
       "        6327.15469606, 6282.43867716],\n",
       "       [6396.35212354, 6425.91780182, 6514.48945274, ..., 6327.15469606,\n",
       "        6282.43867716, 5524.80109342],\n",
       "       ...,\n",
       "       [   0.        ,    0.        ,    0.        , ...,    0.        ,\n",
       "           0.        ,    0.        ],\n",
       "       [   0.        ,    0.        ,    0.        , ...,    0.        ,\n",
       "           0.        ,    0.        ],\n",
       "       [   0.        ,    0.        ,    0.        , ...,    0.        ,\n",
       "           0.        ,    0.        ]])"
      ]
     },
     "execution_count": 52,
     "metadata": {},
     "output_type": "execute_result"
    }
   ],
   "source": [
    "X[split:]"
   ]
  },
  {
   "cell_type": "code",
   "execution_count": 33,
   "metadata": {},
   "outputs": [],
   "source": [
    "from sklearn.preprocessing import MinMaxScaler\n",
    "# Use the MinMaxScaler to scale data between 0 and 1.\n",
    "\n",
    "scaler = MinMaxScaler()\n",
    "scaler.fit(X_train)\n",
    "# scaler.fit(X)\n",
    "X_train = scaler.transform(X_train)\n",
    "X_test = scaler.transform(X_test)\n",
    "scaler.fit(y)\n",
    "y_train = scaler.transform(y_train)\n",
    "y_test = scaler.transform(y_test)"
   ]
  },
  {
   "cell_type": "code",
   "execution_count": 34,
   "metadata": {},
   "outputs": [
    {
     "name": "stdout",
     "output_type": "stream",
     "text": [
      "X_train sample values:\n",
      "[[[7.90736096e-04]\n",
      "  [8.85183194e-04]\n",
      "  [0.00000000e+00]\n",
      "  [0.00000000e+00]\n",
      "  [3.58772654e-05]\n",
      "  [0.00000000e+00]\n",
      "  [0.00000000e+00]\n",
      "  [0.00000000e+00]\n",
      "  [0.00000000e+00]\n",
      "  [3.57898734e-05]]\n",
      "\n",
      " [[8.85183194e-04]\n",
      "  [0.00000000e+00]\n",
      "  [5.29416594e-04]\n",
      "  [1.39854970e-04]\n",
      "  [0.00000000e+00]\n",
      "  [5.98367452e-05]\n",
      "  [6.50033109e-05]\n",
      "  [5.33502885e-05]\n",
      "  [1.00413121e-04]\n",
      "  [0.00000000e+00]]\n",
      "\n",
      " [[0.00000000e+00]\n",
      "  [5.29416594e-04]\n",
      "  [6.69197523e-04]\n",
      "  [1.03981435e-04]\n",
      "  [5.98367452e-05]\n",
      "  [1.24836166e-04]\n",
      "  [1.18350131e-04]\n",
      "  [1.53758052e-04]\n",
      "  [6.46255601e-05]\n",
      "  [3.40221740e-05]]\n",
      "\n",
      " [[5.29416594e-04]\n",
      "  [6.69197523e-04]\n",
      "  [6.33342980e-04]\n",
      "  [1.63811959e-04]\n",
      "  [1.24836166e-04]\n",
      "  [1.78179795e-04]\n",
      "  [2.18751368e-04]\n",
      "  [1.17972401e-04]\n",
      "  [9.86455354e-05]\n",
      "  [5.79606891e-05]]\n",
      "\n",
      " [[6.69197523e-04]\n",
      "  [6.33342980e-04]\n",
      "  [6.93141828e-04]\n",
      "  [2.28804621e-04]\n",
      "  [1.78179795e-04]\n",
      "  [2.78575024e-04]\n",
      "  [1.82968043e-04]\n",
      "  [1.51990561e-04]\n",
      "  [1.22582503e-04]\n",
      "  [5.23184930e-04]]] \n",
      "\n",
      "X_test sample values:\n",
      "[[[0.32721299]\n",
      "  [0.33038224]\n",
      "  [0.32992115]\n",
      "  [0.33111836]\n",
      "  [0.33569913]\n",
      "  [0.33034559]\n",
      "  [0.32668824]\n",
      "  [0.32780088]\n",
      "  [0.32576036]\n",
      "  [0.32569967]]\n",
      "\n",
      " [[0.33038224]\n",
      "  [0.32992115]\n",
      "  [0.33147247]\n",
      "  [0.3357682 ]\n",
      "  [0.33034559]\n",
      "  [0.32672853]\n",
      "  [0.32784458]\n",
      "  [0.32579633]\n",
      "  [0.32574324]\n",
      "  [0.32335135]]\n",
      "\n",
      " [[0.32992115]\n",
      "  [0.33147247]\n",
      "  [0.33611986]\n",
      "  [0.33041522]\n",
      "  [0.32672853]\n",
      "  [0.3278848 ]\n",
      "  [0.32584016]\n",
      "  [0.32577922]\n",
      "  [0.32339507]\n",
      "  [0.28356301]]\n",
      "\n",
      " [[0.33147247]\n",
      "  [0.33611986]\n",
      "  [0.33076971]\n",
      "  [0.32679853]\n",
      "  [0.3278848 ]\n",
      "  [0.3258805 ]\n",
      "  [0.32582304]\n",
      "  [0.32343117]\n",
      "  [0.28360931]\n",
      "  [0.28284625]]\n",
      "\n",
      " [[0.33611986]\n",
      "  [0.33076971]\n",
      "  [0.32715494]\n",
      "  [0.32795469]\n",
      "  [0.3258805 ]\n",
      "  [0.32586338]\n",
      "  [0.32347515]\n",
      "  [0.28364753]\n",
      "  [0.2828926 ]\n",
      "  [0.27956124]]]\n"
     ]
    }
   ],
   "source": [
    "# Reshape the features for the model\n",
    "X_train = X_train.reshape((X_train.shape[0], X_train.shape[1], 1))\n",
    "X_test = X_test.reshape((X_test.shape[0], X_test.shape[1], 1))\n",
    "print (f\"X_train sample values:\\n{X_train[:5]} \\n\")\n",
    "print (f\"X_test sample values:\\n{X_test[:5]}\")"
   ]
  },
  {
   "cell_type": "markdown",
   "metadata": {},
   "source": [
    "---"
   ]
  },
  {
   "cell_type": "markdown",
   "metadata": {},
   "source": [
    "## Build and Train the LSTM RNN\n",
    "\n",
    "In this section, you will design a custom LSTM RNN and fit (train) it using the training data.\n",
    "\n",
    "You will need to:\n",
    "\n",
    "1. Define the model architecture\n",
    "2. Compile the model\n",
    "3. Fit the model to the training data\n",
    "\n",
    "### Hints:\n",
    "You will want to use the same model architecture and random seed for both notebooks. This is necessary to accurately compare the performance of the FNG model vs the closing price model. "
   ]
  },
  {
   "cell_type": "code",
   "execution_count": 35,
   "metadata": {},
   "outputs": [],
   "source": [
    "from tensorflow.keras.models import Sequential\n",
    "from tensorflow.keras.layers import LSTM, Dense, Dropout"
   ]
  },
  {
   "cell_type": "code",
   "execution_count": 36,
   "metadata": {},
   "outputs": [],
   "source": [
    "# Build the LSTM model. \n",
    "# The return sequences need to be set to True if you are adding additional LSTM layers, but \n",
    "# You don't have to do this for the final layer. \n",
    "# Note: The dropouts help prevent overfitting\n",
    "# Note: The input shape is the number of time steps and the number of indicators\n",
    "# Note: Batching inputs has a different input shape of Samples/TimeSteps/Features\n",
    "\n",
    "model = Sequential()\n",
    "\n",
    "number_units = 5\n",
    "dropout_fraction = 0.2\n",
    "\n",
    "# Layer 1\n",
    "model.add(LSTM(\n",
    "    units=number_units,\n",
    "    return_sequences=True,\n",
    "    input_shape=(X_train.shape[1], 1))\n",
    "    )\n",
    "model.add(Dropout(dropout_fraction))\n",
    "\n",
    "# Layer 2\n",
    "model.add(LSTM(units=number_units, return_sequences=True))\n",
    "model.add(Dropout(dropout_fraction))\n",
    "\n",
    "# Layer 3\n",
    "model.add(LSTM(units=number_units))\n",
    "model.add(Dropout(dropout_fraction))\n",
    "\n",
    "# Output layer\n",
    "model.add(Dense(1))\n"
   ]
  },
  {
   "cell_type": "code",
   "execution_count": 37,
   "metadata": {},
   "outputs": [],
   "source": [
    "# Compile the model\n",
    "model.compile(optimizer=\"adam\", loss=\"mean_squared_error\")"
   ]
  },
  {
   "cell_type": "code",
   "execution_count": 38,
   "metadata": {},
   "outputs": [
    {
     "name": "stdout",
     "output_type": "stream",
     "text": [
      "Model: \"sequential_2\"\n",
      "_________________________________________________________________\n",
      "Layer (type)                 Output Shape              Param #   \n",
      "=================================================================\n",
      "lstm_6 (LSTM)                (None, 10, 5)             140       \n",
      "_________________________________________________________________\n",
      "dropout_6 (Dropout)          (None, 10, 5)             0         \n",
      "_________________________________________________________________\n",
      "lstm_7 (LSTM)                (None, 10, 5)             220       \n",
      "_________________________________________________________________\n",
      "dropout_7 (Dropout)          (None, 10, 5)             0         \n",
      "_________________________________________________________________\n",
      "lstm_8 (LSTM)                (None, 5)                 220       \n",
      "_________________________________________________________________\n",
      "dropout_8 (Dropout)          (None, 5)                 0         \n",
      "_________________________________________________________________\n",
      "dense_2 (Dense)              (None, 1)                 6         \n",
      "=================================================================\n",
      "Total params: 586\n",
      "Trainable params: 586\n",
      "Non-trainable params: 0\n",
      "_________________________________________________________________\n"
     ]
    }
   ],
   "source": [
    "# Summarize the model\n",
    "model.summary()"
   ]
  },
  {
   "cell_type": "code",
   "execution_count": 39,
   "metadata": {},
   "outputs": [
    {
     "name": "stdout",
     "output_type": "stream",
     "text": [
      "Epoch 1/10\n",
      "1852/1852 [==============================] - 10s 5ms/step - loss: 7.1956e-04\n",
      "Epoch 2/10\n",
      "1852/1852 [==============================] - 10s 5ms/step - loss: 0.0015\n",
      "Epoch 3/10\n",
      "1852/1852 [==============================] - 10s 6ms/step - loss: 0.0016\n",
      "Epoch 4/10\n",
      "1852/1852 [==============================] - 10s 6ms/step - loss: 0.0019\n",
      "Epoch 5/10\n",
      "1852/1852 [==============================] - 10s 5ms/step - loss: 0.0016\n",
      "Epoch 6/10\n",
      "1852/1852 [==============================] - 10s 6ms/step - loss: 0.0017\n",
      "Epoch 7/10\n",
      "1852/1852 [==============================] - 10s 6ms/step - loss: 0.0019\n",
      "Epoch 8/10\n",
      "1852/1852 [==============================] - 10s 6ms/step - loss: 0.0019\n",
      "Epoch 9/10\n",
      "1852/1852 [==============================] - 10s 5ms/step - loss: 0.0019\n",
      "Epoch 10/10\n",
      "1852/1852 [==============================] - 10s 5ms/step - loss: 0.0018\n"
     ]
    },
    {
     "data": {
      "text/plain": [
       "<tensorflow.python.keras.callbacks.History at 0x2a705e3db80>"
      ]
     },
     "execution_count": 39,
     "metadata": {},
     "output_type": "execute_result"
    }
   ],
   "source": [
    "# Train the model\n",
    "# Use at least 10 epochs\n",
    "# Do not shuffle the data\n",
    "# Experiement with the batch size, but a smaller batch size is recommended\n",
    "model.fit(X_train, y_train, epochs=10, shuffle=False, batch_size=1, verbose=1)"
   ]
  },
  {
   "cell_type": "markdown",
   "metadata": {},
   "source": [
    "---"
   ]
  },
  {
   "cell_type": "markdown",
   "metadata": {},
   "source": [
    "## Model Performance\n",
    "\n",
    "In this section, you will evaluate the model using the test data. \n",
    "\n",
    "You will need to:\n",
    "1. Evaluate the model using the `X_test` and `y_test` data.\n",
    "2. Use the X_test data to make predictions\n",
    "3. Create a DataFrame of Real (y_test) vs predicted values. \n",
    "4. Plot the Real vs predicted values as a line chart\n",
    "\n",
    "### Hints\n",
    "Remember to apply the `inverse_transform` function to the predicted and y_test values to recover the actual closing prices."
   ]
  },
  {
   "cell_type": "code",
   "execution_count": 40,
   "metadata": {},
   "outputs": [
    {
     "name": "stdout",
     "output_type": "stream",
     "text": [
      "25/25 [==============================] - 0s 3ms/step - loss: 0.0319\n"
     ]
    },
    {
     "data": {
      "text/plain": [
       "0.03188763186335564"
      ]
     },
     "execution_count": 40,
     "metadata": {},
     "output_type": "execute_result"
    }
   ],
   "source": [
    "# Evaluate the model\n",
    "model.evaluate(X_test, y_test)"
   ]
  },
  {
   "cell_type": "code",
   "execution_count": 56,
   "metadata": {},
   "outputs": [
    {
     "data": {
      "text/html": [
       "<div>\n",
       "<style scoped>\n",
       "    .dataframe tbody tr th:only-of-type {\n",
       "        vertical-align: middle;\n",
       "    }\n",
       "\n",
       "    .dataframe tbody tr th {\n",
       "        vertical-align: top;\n",
       "    }\n",
       "\n",
       "    .dataframe thead th {\n",
       "        text-align: right;\n",
       "    }\n",
       "</style>\n",
       "<table border=\"1\" class=\"dataframe\">\n",
       "  <thead>\n",
       "    <tr style=\"text-align: right;\">\n",
       "      <th></th>\n",
       "      <th>Currency</th>\n",
       "      <th>Closing Price (USD)</th>\n",
       "      <th>24h Open (USD)</th>\n",
       "      <th>24h High (USD)</th>\n",
       "      <th>24h Low (USD)</th>\n",
       "    </tr>\n",
       "    <tr>\n",
       "      <th>Date</th>\n",
       "      <th></th>\n",
       "      <th></th>\n",
       "      <th></th>\n",
       "      <th></th>\n",
       "      <th></th>\n",
       "    </tr>\n",
       "  </thead>\n",
       "  <tbody>\n",
       "    <tr>\n",
       "      <th>2021-01-18</th>\n",
       "      <td>BTC</td>\n",
       "      <td>0.0</td>\n",
       "      <td>0.0</td>\n",
       "      <td>0.0</td>\n",
       "      <td>0.0</td>\n",
       "    </tr>\n",
       "  </tbody>\n",
       "</table>\n",
       "</div>"
      ],
      "text/plain": [
       "           Currency  Closing Price (USD)  24h Open (USD)  24h High (USD)  \\\n",
       "Date                                                                       \n",
       "2021-01-18      BTC                  0.0             0.0             0.0   \n",
       "\n",
       "            24h Low (USD)  \n",
       "Date                       \n",
       "2021-01-18            0.0  "
      ]
     },
     "execution_count": 56,
     "metadata": {},
     "output_type": "execute_result"
    }
   ],
   "source": []
  },
  {
   "cell_type": "code",
   "execution_count": 41,
   "metadata": {},
   "outputs": [],
   "source": [
    "# Loop to build each day's prediction.\n",
    "predicted = model.predict(X_test)\n",
    "\n",
    "current_day = pd.to_datetime( datetime.now().strftime(\"%Y-%m-%d\") )\n",
    "num_days = 20\n",
    "\n",
    "for i inrange(1, num_days + 1):\n",
    "\n",
    "\n",
    "\n",
    "\n",
    "\n",
    "# # Append days in the future\n",
    "# from datetime import datetime\n",
    "# from datetime import timedelta\n",
    "\n",
    "# current_day = pd.to_datetime( datetime.now().strftime(\"%Y-%m-%d\") )\n",
    "# num_days = 20\n",
    "\n",
    "# for i in range(1, num_days + 1):\n",
    "#     df.loc[current_day + timedelta(days=i)] = [\"BTC\", 0, 0, 0, 0]\n",
    "\n",
    "# df.tail()\n"
   ]
  },
  {
   "cell_type": "code",
   "execution_count": 42,
   "metadata": {},
   "outputs": [],
   "source": [
    "# Recover the original prices instead of the scaled version\n",
    "predicted_prices = scaler.inverse_transform(predicted)\n",
    "real_prices = scaler.inverse_transform(y_test.reshape(-1, 1))"
   ]
  },
  {
   "cell_type": "code",
   "execution_count": 43,
   "metadata": {},
   "outputs": [
    {
     "data": {
      "text/html": [
       "<div>\n",
       "<style scoped>\n",
       "    .dataframe tbody tr th:only-of-type {\n",
       "        vertical-align: middle;\n",
       "    }\n",
       "\n",
       "    .dataframe tbody tr th {\n",
       "        vertical-align: top;\n",
       "    }\n",
       "\n",
       "    .dataframe thead th {\n",
       "        text-align: right;\n",
       "    }\n",
       "</style>\n",
       "<table border=\"1\" class=\"dataframe\">\n",
       "  <thead>\n",
       "    <tr style=\"text-align: right;\">\n",
       "      <th></th>\n",
       "      <th>Real</th>\n",
       "      <th>Predicted</th>\n",
       "    </tr>\n",
       "    <tr>\n",
       "      <th>Date</th>\n",
       "      <th></th>\n",
       "      <th></th>\n",
       "    </tr>\n",
       "  </thead>\n",
       "  <tbody>\n",
       "    <tr>\n",
       "      <th>2018-11-14</th>\n",
       "      <td>6282.438677</td>\n",
       "      <td>6323.466309</td>\n",
       "    </tr>\n",
       "    <tr>\n",
       "      <th>2018-11-15</th>\n",
       "      <td>5524.801093</td>\n",
       "      <td>6323.500000</td>\n",
       "    </tr>\n",
       "    <tr>\n",
       "      <th>2018-11-16</th>\n",
       "      <td>5511.152834</td>\n",
       "      <td>6323.702637</td>\n",
       "    </tr>\n",
       "    <tr>\n",
       "      <th>2018-11-17</th>\n",
       "      <td>5448.600634</td>\n",
       "      <td>6324.264648</td>\n",
       "    </tr>\n",
       "    <tr>\n",
       "      <th>2018-11-18</th>\n",
       "      <td>5497.411279</td>\n",
       "      <td>6325.189941</td>\n",
       "    </tr>\n",
       "  </tbody>\n",
       "</table>\n",
       "</div>"
      ],
      "text/plain": [
       "                   Real    Predicted\n",
       "Date                                \n",
       "2018-11-14  6282.438677  6323.466309\n",
       "2018-11-15  5524.801093  6323.500000\n",
       "2018-11-16  5511.152834  6323.702637\n",
       "2018-11-17  5448.600634  6324.264648\n",
       "2018-11-18  5497.411279  6325.189941"
      ]
     },
     "execution_count": 43,
     "metadata": {},
     "output_type": "execute_result"
    }
   ],
   "source": [
    "# Create a DataFrame of Real and Predicted values\n",
    "stocks = pd.DataFrame({\n",
    "    \"Real\": real_prices.ravel(),\n",
    "    \"Predicted\": predicted_prices.ravel()\n",
    "}, index = df.index[-len(real_prices): ]) \n",
    "stocks.head()"
   ]
  },
  {
   "cell_type": "code",
   "execution_count": 44,
   "metadata": {},
   "outputs": [
    {
     "data": {
      "text/plain": [
       "<AxesSubplot:xlabel='Date'>"
      ]
     },
     "execution_count": 44,
     "metadata": {},
     "output_type": "execute_result"
    },
    {
     "data": {
      "image/png": "[encoded data removed]",
      "text/plain": [
       "<Figure size 432x288 with 1 Axes>"
      ]
     },
     "metadata": {
      "needs_background": "light"
     },
     "output_type": "display_data"
    }
   ],
   "source": [
    "# Plot the real vs predicted values as a line chart\n",
    "stocks.plot()"
   ]
  },
  {
   "cell_type": "code",
   "execution_count": null,
   "metadata": {},
   "outputs": [],
   "source": []
  }
 ],
 "metadata": {
  "file_extension": ".py",
  "kernelspec": {
   "display_name": "Python [conda env:pyvizenv] *",
   "language": "python",
   "name": "conda-env-pyvizenv-py"
  },
  "language_info": {
   "codemirror_mode": {
    "name": "ipython",
    "version": 3
   },
   "file_extension": ".py",
   "mimetype": "text/x-python",
   "name": "python",
   "nbconvert_exporter": "python",
   "pygments_lexer": "ipython3",
   "version": "3.8.3"
  },
  "mimetype": "text/x-python",
  "name": "python",
  "npconvert_exporter": "python",
  "pygments_lexer": "ipython3",
  "version": 3
 },
 "nbformat": 4,
 "nbformat_minor": 4
}
